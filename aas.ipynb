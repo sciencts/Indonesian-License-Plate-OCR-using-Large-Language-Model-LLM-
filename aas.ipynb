{
 "cells": [
  {
   "cell_type": "markdown",
   "id": "55044d77",
   "metadata": {},
   "source": [
    "#### Insert Library dan Path"
   ]
  },
  {
   "cell_type": "code",
   "execution_count": 8,
   "id": "ef1227e3",
   "metadata": {},
   "outputs": [],
   "source": [
    "import os\n",
    "import csv\n",
    "\n",
    "label_folder = r\"C:\\Users\\KRTI\\Downloads\\aas vision\\archive\\Indonesian License Plate Recognition Dataset\\labels\\test\"\n",
    "image_folder = r\"C:\\Users\\KRTI\\Downloads\\aas vision\\archive\\Indonesian License Plate Recognition Dataset\\images\\test\"\n",
    "class_file = r\"C:\\Users\\KRTI\\Downloads\\aas vision\\archive\\Indonesian License Plate Recognition Dataset\\classes.names\"\n",
    "output_csv = \"ground_truth.csv\""
   ]
  },
  {
   "cell_type": "markdown",
   "id": "efeb5aa6",
   "metadata": {},
   "source": [
    "#### Load Mapping class_id → Karakter"
   ]
  },
  {
   "cell_type": "code",
   "execution_count": 9,
   "id": "03254248",
   "metadata": {},
   "outputs": [
    {
     "name": "stdout",
     "output_type": "stream",
     "text": [
      "Total kelas: 36\n",
      "Contoh kelas: ['0', '1', '2', '3', '4', '5', '6', '7', '8', '9']\n"
     ]
    }
   ],
   "source": [
    "with open(class_file, \"r\", encoding=\"utf-8\") as f:\n",
    "    classes = [line.strip() for line in f.readlines()]\n",
    "\n",
    "print(\"Total kelas:\", len(classes))\n",
    "print(\"Contoh kelas:\", classes[:10])"
   ]
  },
  {
   "cell_type": "markdown",
   "id": "c09f53c8",
   "metadata": {},
   "source": [
    "#### Fungsi Parse Label File (YOLO → Teks)"
   ]
  },
  {
   "cell_type": "code",
   "execution_count": 10,
   "id": "7f7487b0",
   "metadata": {},
   "outputs": [],
   "source": [
    "def parse_label_file(file_path):\n",
    "    chars = []\n",
    "    with open(file_path, \"r\") as f:\n",
    "        for line in f:\n",
    "            parts = line.strip().split()\n",
    "            if len(parts) != 5:\n",
    "                continue\n",
    "            class_id, x_center = int(parts[0]), float(parts[1])\n",
    "            char = classes[class_id]\n",
    "            chars.append((x_center, char))\n",
    "    chars.sort(key=lambda x: x[0])\n",
    "    text = \"\".join([c[1] for c in chars])\n",
    "    return text"
   ]
  },
  {
   "cell_type": "markdown",
   "id": "9fcf69f9",
   "metadata": {},
   "source": [
    "#### Proses Semua File Label dan Cocokkan dengan Gambar"
   ]
  },
  {
   "cell_type": "code",
   "execution_count": 11,
   "id": "fa3f2f67",
   "metadata": {},
   "outputs": [],
   "source": [
    "rows = []\n",
    "\n",
    "for file_name in os.listdir(label_folder):\n",
    "    if not file_name.endswith(\".txt\"):\n",
    "        continue\n",
    "    label_path = os.path.join(label_folder, file_name)\n",
    "    image_name = file_name.replace(\".txt\", \".jpg\")\n",
    "    image_path = os.path.join(image_folder, image_name)\n",
    "    \n",
    "    if not os.path.exists(image_path):\n",
    "        print(f\"[!] Gambar tidak ditemukan untuk {file_name}, dilewati.\")\n",
    "        continue\n",
    "    \n",
    "    gt_text = parse_label_file(label_path)\n",
    "    rows.append([image_name, gt_text])"
   ]
  },
  {
   "cell_type": "markdown",
   "id": "bc6da8b1",
   "metadata": {},
   "source": [
    "#### Simpan ke CSV"
   ]
  },
  {
   "cell_type": "code",
   "execution_count": 12,
   "id": "57e71e39",
   "metadata": {},
   "outputs": [
    {
     "name": "stdout",
     "output_type": "stream",
     "text": [
      "[✓] ground_truth.csv berhasil dibuat: 197 entri.\n"
     ]
    }
   ],
   "source": [
    "with open(output_csv, \"w\", newline='', encoding=\"utf-8\") as f:\n",
    "    writer = csv.writer(f)\n",
    "    writer.writerow([\"image\", \"ground_truth\"])\n",
    "    writer.writerows(rows)\n",
    "\n",
    "print(f\"[✓] ground_truth.csv berhasil dibuat: {len(rows)} entri.\")"
   ]
  },
  {
   "cell_type": "markdown",
   "id": "07fc8ed8",
   "metadata": {},
   "source": [
    "#### Import Library"
   ]
  },
  {
   "cell_type": "code",
   "execution_count": 13,
   "id": "ff50c6bc",
   "metadata": {},
   "outputs": [],
   "source": [
    "import pandas as pd\n",
    "import lmstudio as lms\n",
    "from evaluate import load"
   ]
  },
  {
   "cell_type": "markdown",
   "id": "fa0425f6",
   "metadata": {},
   "source": [
    "#### Konfigurasi dan Prompt"
   ]
  },
  {
   "cell_type": "code",
   "execution_count": 14,
   "id": "bbd1f50d",
   "metadata": {},
   "outputs": [],
   "source": [
    "ground_truth_file = \"ground_truth.csv\"\n",
    "output_csv = \"ocr_results.csv\"\n",
    "\n",
    "prompt = \"What is the license plate number shown in this image? Respond only with the license plate characters, without any spaces, or punctuation. Do not include the expiration date.\""
   ]
  },
  {
   "cell_type": "markdown",
   "id": "49f20a90",
   "metadata": {},
   "source": [
    "#### Load Ground Truth"
   ]
  },
  {
   "cell_type": "code",
   "execution_count": 15,
   "id": "e8c09671",
   "metadata": {},
   "outputs": [],
   "source": [
    "df_gt = pd.read_csv(ground_truth_file)\n",
    "ground_truth_dict = dict(zip(df_gt[\"image\"], df_gt[\"ground_truth\"]))"
   ]
  },
  {
   "cell_type": "markdown",
   "id": "0371cf5a",
   "metadata": {},
   "source": [
    "#### Inisialisasi Model"
   ]
  },
  {
   "cell_type": "code",
   "execution_count": null,
   "id": "f95dd079",
   "metadata": {},
   "outputs": [],
   "source": [
    "model = lms.llm(\"qwen2-vl-2b-instruct\")"
   ]
  },
  {
   "cell_type": "markdown",
   "id": "304174a5",
   "metadata": {},
   "source": [
    "#### Proses OCR untuk Setiap Gambar"
   ]
  },
  {
   "cell_type": "code",
   "execution_count": null,
   "id": "a0318114",
   "metadata": {},
   "outputs": [
    {
     "name": "stdout",
     "output_type": "stream",
     "text": [
      "[✓] test001_1.jpg: GT=B9140BCD, Pred=B9140BCD, CER=0.0000\n",
      "[✓] test001_2.jpg: GT=B2407UZO, Pred=B2407UZ0, CER=0.1250\n",
      "[✓] test001_3.jpg: GT=B2842PKM, Pred=B2842PKM, CER=0.0000\n",
      "[✓] test002_1.jpg: GT=BG1352AE, Pred=BG1352AE, CER=0.0000\n",
      "[✓] test003_1.jpg: GT=B2634UZF, Pred=B2634UZF, CER=0.0000\n",
      "[✓] test003_2.jpg: GT=B1995JVK, Pred=B1995JVK, CER=0.0000\n",
      "[✓] test004_1.jpg: GT=B9062VEH, Pred=89062VEH, CER=0.1250\n",
      "[✓] test005_1.jpg: GT=DD8798KM, Pred=DD2798KM, CER=0.1250\n",
      "[✓] test006_1.jpg: GT=T1329KC, Pred=T1329KC, CER=0.0000\n",
      "[✓] test007_1.jpg: GT=AD8865EE, Pred=AD8865EE, CER=0.0000\n",
      "[✓] test008_1.jpg: GT=DK1157AAB, Pred=DK1157AAB, CER=0.0000\n",
      "[✓] test008_2.jpg: GT=AA1997FE, Pred=AA1997FE, CER=0.0000\n",
      "[✓] test009_1.jpg: GT=H8518NA, Pred=H8518NA, CER=0.0000\n",
      "[✓] test009_2.jpg: GT=K1649GB, Pred=K1649GB, CER=0.0000\n",
      "[✓] test010_1.jpg: GT=B9416PCN, Pred=B9416PCN, CER=0.0000\n",
      "[✓] test010_2.jpg: GT=H1147UY, Pred=H1147UY, CER=0.0000\n",
      "[✓] test011_1.jpg: GT=H1691IL, Pred=H1691IL, CER=0.0000\n",
      "[✓] test011_2.jpg: GT=B9374RI, Pred=B937481, CER=0.2857\n",
      "[✓] test011_3.jpg: GT=D1204AIG, Pred=D1204AIG, CER=0.0000\n",
      "[✓] test012_1.jpg: GT=E1887BA, Pred=E1887BA, CER=0.0000\n",
      "[✓] test013_1.jpg: GT=B1439UZP, Pred=B1439UZP, CER=0.0000\n",
      "[✓] test013_2.jpg: GT=B1128WOS, Pred=B1128WOS, CER=0.0000\n",
      "[✓] test014_1.jpg: GT=B1388DFX, Pred=B1388DFX, CER=0.0000\n",
      "[✓] test015_1.jpg: GT=AD1798BT, Pred=AD1798BT, CER=0.0000\n",
      "[✓] test016_1.jpg: GT=E1517DQ, Pred=E1517DO, CER=0.1429\n",
      "[✓] test017_1.jpg: GT=AD8982FS, Pred=AD8982FS, CER=0.0000\n",
      "[✓] test018_1.jpg: GT=L7603UA, Pred=L7603UA, CER=0.0000\n",
      "[✓] test019_1.jpg: GT=AD7HS, Pred=AD7HS, CER=0.0000\n",
      "[✓] test019_2.jpg: GT=B1959WYK, Pred=B1959WYK, CER=0.0000\n",
      "[✓] test020_1.jpg: GT=AG8634EK, Pred=AG'8634EK, CER=0.1250\n",
      "[✓] test020_2.jpg: GT=AD1329PY, Pred=AD1328PY, CER=0.1250\n",
      "[✓] test021_1.jpg: GT=BA1709DW, Pred=BA1709DW, CER=0.0000\n",
      "[✓] test021_2.jpg: GT=W1236VZ, Pred=W1236VZ, CER=0.0000\n",
      "[✓] test022_1.jpg: GT=W1825OZ, Pred=W18250Z, CER=0.1429\n",
      "[✓] test022_2.jpg: GT=L1202UE, Pred=L1202UE, CER=0.0000\n",
      "[✓] test022_3.jpg: GT=L3823IB, Pred=L38231B, CER=0.1429\n",
      "[✓] test023_1.jpg: GT=B1730JLO, Pred=B1730JL0, CER=0.1250\n",
      "[✓] test024_1.jpg: GT=B2964TRU, Pred=B2964TRU, CER=0.0000\n",
      "[✓] test025_1.jpg: GT=S5585LP, Pred=S5585LP, CER=0.0000\n",
      "[✓] test025_2.jpg: GT=L2858RR, Pred=L285BRR, CER=0.1429\n",
      "[✓] test025_3.jpg: GT=W1185ZO, Pred=W1185Z0, CER=0.1429\n",
      "[✓] test025_4.jpg: GT=9840VU, Pred=9840VU, CER=0.0000\n",
      "[✓] test026_1.jpg: GT=N9652DF, Pred=9652DF, CER=0.1429\n",
      "[✓] test026_2.jpg: GT=L3836ZX, Pred=L3836ZX, CER=0.0000\n",
      "[✓] test027_1.jpg: GT=N1905IG, Pred=N1905IG, CER=0.0000\n",
      "[✓] test027_2.jpg: GT=B1109CLR, Pred=B1109CLR, CER=0.0000\n",
      "[✓] test027_3.jpg: GT=L1840AA, Pred=L1840AA, CER=0.0000\n",
      "[✓] test028_1.jpg: GT=L1438EO, Pred=L1438E0, CER=0.1429\n",
      "[✓] test028_2.jpg: GT=L1436AAA, Pred=L1436AAJ, CER=0.1250\n",
      "[✓] test029_1.jpg: GT=W1518WF, Pred=W1516, CER=0.4286\n",
      "[✓] test029_2.jpg: GT=G1986N, Pred=G1986N, CER=0.0000\n",
      "[✓] test029_3.jpg: GT=L1588OO, Pred=L158800, CER=0.2857\n",
      "[✓] test029_4.jpg: GT=L1436AAA, Pred=L1436AAA, CER=0.0000\n",
      "[✓] test030_1.jpg: GT=S8062NF, Pred=S8062NF, CER=0.0000\n",
      "[✓] test030_2.jpg: GT=G1894TE, Pred=G1894TE, CER=0.0000\n",
      "[✓] test031_1.jpg: GT=L1560JQ, Pred=L1560JQ, CER=0.0000\n",
      "[✓] test031_2.jpg: GT=L1568QO, Pred=L156800, CER=0.2857\n",
      "[✓] test031_3.jpg: GT=L1932AAZ, Pred=L1932AAZ, CER=0.0000\n",
      "[✓] test032_1.jpg: GT=B2754SKY, Pred=B2754SKY, CER=0.0000\n",
      "[✓] test032_2.jpg: GT=W1192K, Pred=W1192K, CER=0.0000\n",
      "[✓] test033_1.jpg: GT=L4561VK, Pred=L4561VK, CER=0.0000\n",
      "[✓] test033_2.jpg: GT=L2693GA, Pred=L2693CA, CER=0.1429\n",
      "[✓] test033_3.jpg: GT=W9847G, Pred=9847G, CER=0.1667\n",
      "[✓] test033_4.jpg: GT=L1762ABJ, Pred=L1762ABJ, CER=0.0000\n",
      "[✓] test034_1.jpg: GT=L1811SU, Pred=L1811SU, CER=0.0000\n",
      "[✓] test034_2.jpg: GT=W1167VO, Pred=W1167VB, CER=0.1429\n",
      "[✓] test034_3.jpg: GT=S6131OCF, Pred=61310CF, CER=0.2500\n",
      "[✓] test034_4.jpg: GT=L2570AAD, Pred=L2570AAD, CER=0.0000\n",
      "[✓] test035_1.jpg: GT=L9643NN, Pred=L9643NN, CER=0.0000\n",
      "[✓] test035_2.jpg: GT=L5247GI, Pred=L5247CI, CER=0.1429\n",
      "[✓] test035_3.jpg: GT=L2498AAM, Pred=L2498AAM, CER=0.0000\n",
      "[✓] test035_4.jpg: GT=W1696YO, Pred=W1696YO, CER=0.0000\n",
      "[✓] test036_1.jpg: GT=B1231JJA, Pred=B1231JJA, CER=0.0000\n",
      "[✓] test036_2.jpg: GT=B1618UAE, Pred=B1618UAE0826, CER=0.5000\n",
      "[✓] test037_1.jpg: GT=L1775VO, Pred=L1775VO, CER=0.0000\n",
      "[✓] test037_2.jpg: GT=L300RX, Pred=L300RX, CER=0.0000\n",
      "[✓] test037_3.jpg: GT=L1879VG, Pred=L1879VC, CER=0.1429\n",
      "[✓] test038_1.jpg: GT=D1523YCN, Pred=D1523YCN, CER=0.0000\n",
      "[✓] test038_2.jpg: GT=L1877ACU, Pred=L1877ACU, CER=0.0000\n",
      "[✓] test039_1.jpg: GT=L1069VK, Pred=L1069VK, CER=0.0000\n",
      "[✓] test040_1.jpg: GT=S1595LL, Pred=S1595LL, CER=0.0000\n",
      "[✓] test041_1.jpg: GT=B1231JJA, Pred=B1231JJA, CER=0.0000\n",
      "[✓] test042_1.jpg: GT=AD1174SF, Pred=AD1174SF, CER=0.0000\n",
      "[✓] test043_1.jpg: GT=W1898YW, Pred=W1898YW, CER=0.0000\n",
      "[✓] test043_2.jpg: GT=W1470PG, Pred=W1470PG, CER=0.0000\n",
      "[✓] test044_1.jpg: GT=L1930KF, Pred=L1930KF, CER=0.0000\n",
      "[✓] test044_2.jpg: GT=N1004HE, Pred=N1004HE, CER=0.0000\n",
      "[✓] test045_1.jpg: GT=S1347LJ, Pred=S1347LJ, CER=0.0000\n",
      "[✓] test046_1.jpg: GT=L1470ABK, Pred=L1470ABK, CER=0.0000\n",
      "[✓] test046_2.jpg: GT=L1265MX, Pred=L1265MX, CER=0.0000\n",
      "[✓] test047_1.jpg: GT=N1524SY, Pred=N1524SY, CER=0.0000\n",
      "[✓] test047_2.jpg: GT=L1678ACE, Pred=L1678ACE, CER=0.0000\n",
      "[✓] test048_1.jpg: GT=L9316BC, Pred=L9316BC, CER=0.0000\n",
      "[✓] test048_2.jpg: GT=W1838AY, Pred=W1838AY, CER=0.0000\n",
      "[✓] test049_1.jpg: GT=N1376DE, Pred=N1376DE, CER=0.0000\n",
      "[✓] test049_2.jpg: GT=N79AP, Pred=79AP, CER=0.2000\n",
      "[✓] test050_1.jpg: GT=L1265OF, Pred=L1265OF, CER=0.0000\n",
      "[✓] test050_2.jpg: GT=N1095G, Pred=N1095G, CER=0.0000\n",
      "[✓] test051_1.jpg: GT=N1718HC, Pred=N1718HC, CER=0.0000\n",
      "[✓] test052_1.jpg: GT=N6497KS, Pred=N6497KS, CER=0.0000\n",
      "[✓] test052_2.jpg: GT=N5235ABX, Pred=N5235ABX, CER=0.0000\n",
      "[✓] test052_3.jpg: GT=N4980KJ, Pred=N4980KJ, CER=0.0000\n",
      "[✓] test053_1.jpg: GT=N1365AAO, Pred=N1365AA0, CER=0.1250\n",
      "[✓] test054_1.jpg: GT=N1077AAK, Pred=N1077AAK, CER=0.0000\n",
      "[✓] test054_2.jpg: GT=N1084AAO, Pred=N1084AA0, CER=0.1250\n",
      "[✓] test055_1.jpg: GT=N1610KS, Pred=N1610KS, CER=0.0000\n",
      "[✓] test056_1.jpg: GT=N924CIA, Pred=924CIA, CER=0.1429\n",
      "[✓] test056_2.jpg: GT=N1623HB, Pred=N1623HB, CER=0.0000\n",
      "[✓] test056_3.jpg: GT=L1430HF, Pred=L1430HF, CER=0.0000\n",
      "[✓] test057_1.jpg: GT=N1342T, Pred=N1342T, CER=0.0000\n",
      "[✓] test057_2.jpg: GT=N4145AB, Pred=4145AB, CER=0.1429\n",
      "[✓] test057_3.jpg: GT=N1396AAH, Pred=N1396AAH, CER=0.0000\n",
      "[✓] test058_1.jpg: GT=N3153ACB, Pred=N3153ACB, CER=0.0000\n",
      "[✓] test058_2.jpg: GT=N5829KJ, Pred=5829KJ, CER=0.1429\n",
      "[✓] test058_3.jpg: GT=N1780JL, Pred=N1780JL, CER=0.0000\n",
      "[✓] test059_1.jpg: GT=W8774PA, Pred=W8774PA, CER=0.0000\n",
      "[✓] test059_2.jpg: GT=B9162FXU, Pred=B9162FXU, CER=0.0000\n",
      "[✓] test060_1.jpg: GT=L1846JE, Pred=L1846JE, CER=0.0000\n",
      "[✓] test060_2.jpg: GT=M1457ITA, Pred=M1457ITA, CER=0.0000\n",
      "[✓] test061_1.jpg: GT=AA1971KJ, Pred=AA1971KJ, CER=0.0000\n",
      "[✓] test061_2.jpg: GT=BD1146DH, Pred=BD1146DH, CER=0.0000\n",
      "[✓] test062_1.jpg: GT=B9654PEU, Pred=B9654PEU, CER=0.0000\n",
      "[✓] test062_2.jpg: GT=AE7244S, Pred=AE7244S, CER=0.0000\n",
      "[✓] test063_1.jpg: GT=S1208BI, Pred=S1208BI, CER=0.0000\n",
      "[✓] test064_1.jpg: GT=AE8137G, Pred=AE8137G, CER=0.0000\n",
      "[✓] test065_1.jpg: GT=H1706SW, Pred=H1706SW, CER=0.0000\n",
      "[✓] test066_1.jpg: GT=T1220HS, Pred=T1220, CER=0.2857\n",
      "[✓] test066_2.jpg: GT=H1790ZY, Pred=H1790ZY, CER=0.0000\n",
      "[✓] test067_1.jpg: GT=L1855BR, Pred=L1855BR, CER=0.0000\n",
      "[✓] test067_2.jpg: GT=AB1274EV, Pred=AB1274EV, CER=0.0000\n",
      "[✓] test068_1.jpg: GT=B2310UZS, Pred=B2310UZS, CER=0.0000\n",
      "[✓] test068_2.jpg: GT=G1264CM, Pred=G1264CM, CER=0.0000\n",
      "[✓] test069_1.jpg: GT=AA1138AK, Pred=AA1138AK, CER=0.0000\n",
      "[✓] test070_1.jpg: GT=B2160TOB, Pred=B2160TOB, CER=0.0000\n",
      "[✓] test070_2.jpg: GT=B2597BYK, Pred=B2597BYK, CER=0.0000\n",
      "[✓] test071_1.jpg: GT=G9545AG, Pred=G9545AG, CER=0.0000\n",
      "[✓] test072_1.jpg: GT=BG1870IB, Pred=BG1870IB, CER=0.0000\n",
      "[✓] test073_1.jpg: GT=T1187HB, Pred=T1187HB, CER=0.0000\n",
      "[✓] test073_2.jpg: GT=A1330FP, Pred=A1330FP, CER=0.0000\n",
      "[✓] test074_1.jpg: GT=G1368GE, Pred=G1368GE, CER=0.0000\n",
      "[✓] test074_2.jpg: GT=B1081CMR, Pred=B1081CMR, CER=0.0000\n",
      "[✓] test075_1.jpg: GT=G2474XZ, Pred=62474XZ, CER=0.1429\n",
      "[✓] test075_2.jpg: GT=G9173BP, Pred=G9173BP, CER=0.0000\n",
      "[✓] test075_3.jpg: GT=7066OF, Pred=7066DF, CER=0.1667\n",
      "[✓] test076_1.jpg: GT=G2151ASF, Pred=G2151ASF, CER=0.0000\n",
      "[✓] test076_2.jpg: GT=E500MA, Pred=E500MA, CER=0.0000\n",
      "[✓] test076_3.jpg: GT=G4689SN, Pred=G4689SN, CER=0.0000\n",
      "[✓] test077_1.jpg: GT=G1754QZ, Pred=G17540Z, CER=0.1429\n",
      "[✓] test078_1.jpg: GT=H1413DH, Pred=H1413DH, CER=0.0000\n",
      "[✓] test079_1.jpg: GT=T1688GY, Pred=T1688GY, CER=0.0000\n",
      "[✓] test079_2.jpg: GT=A1260AJ, Pred=A126CAJ, CER=0.1429\n",
      "[✓] test080_1.jpg: GT=D77HSB, Pred=D77HSB, CER=0.0000\n",
      "[✓] test080_2.jpg: GT=B1861TOI, Pred=B1861TOI, CER=0.0000\n",
      "[✓] test080_3.jpg: GT=D1160ADE, Pred=D1160ADE, CER=0.0000\n",
      "[✓] test081_1.jpg: GT=F8097BD, Pred=8097BD, CER=0.1429\n",
      "[✓] test081_2.jpg: GT=F1992AM, Pred=F'1992AN, CER=0.2857\n",
      "[✓] test082_1.jpg: GT=E1824YZ, Pred=E1824YZ, CER=0.0000\n",
      "[✓] test082_2.jpg: GT=B9093UEX, Pred=B9093UEX, CER=0.0000\n",
      "[✓] test083_1.jpg: GT=F5052AAE, Pred=F5052AAE, CER=0.0000\n",
      "[✓] test083_2.jpg: GT=F5452CQ, Pred=F5452CO, CER=0.1429\n",
      "[✓] test084_1.jpg: GT=B1158PYP, Pred=B1158PYP, CER=0.0000\n",
      "[✓] test084_2.jpg: GT=B1242VOY, Pred=B1242VOY, CER=0.0000\n",
      "[✓] test085_1.jpg: GT=B1315KIF, Pred=B1315KIF, CER=0.0000\n",
      "[✓] test085_2.jpg: GT=B2938FVJ, Pred=B2938FVJ, CER=0.0000\n",
      "[✓] test085_3.jpg: GT=B2560SKZ, Pred=B2560SKZ, CER=0.0000\n",
      "[✓] test086_1.jpg: GT=B1291NOJ, Pred=B1291NOJ, CER=0.0000\n",
      "[✓] test086_2.jpg: GT=B1556NRC, Pred=B1556NRC, CER=0.0000\n",
      "[✓] test087_1.jpg: GT=B6823WXR, Pred=B6823WXR, CER=0.0000\n",
      "[✓] test087_2.jpg: GT=B6317NXK, Pred=B6317NXK, CER=0.0000\n",
      "[✓] test087_3.jpg: GT=F2215FCQ, Pred=F2215FCO, CER=0.1250\n",
      "[✓] test087_4.jpg: GT=4039NHR, Pred=4039NHR, CER=0.0000\n",
      "[✓] test088_1.jpg: GT=B2190TYB, Pred=B2190TYB, CER=0.0000\n",
      "[✓] test088_2.jpg: GT=B1902VKA, Pred=B1902VKA, CER=0.0000\n",
      "[✓] test089_1.jpg: GT=D8609N, Pred=D8609, CER=0.1667\n",
      "[✓] test089_2.jpg: GT=A8406ZE, Pred=A8406ZE, CER=0.0000\n",
      "[✓] test089_3.jpg: GT=B1246KRK, Pred=B1246KRK, CER=0.0000\n",
      "[✓] test090_1.jpg: GT=T9314E, Pred=T9314E, CER=0.0000\n",
      "[✓] test090_2.jpg: GT=N9579U, Pred=N579U, CER=0.1667\n",
      "[✓] test091_1.jpg: GT=B2910KZW, Pred=B2910KZW, CER=0.0000\n",
      "[✓] test091_2.jpg: GT=B9721KXV, Pred=B9721KXV, CER=0.0000\n",
      "[✓] test092_1.jpg: GT=B1104AAA, Pred=B1104AAA, CER=0.0000\n",
      "[✓] test092_2.jpg: GT=T1579FN, Pred=T1579FN, CER=0.0000\n",
      "[✓] test092_3.jpg: GT=B2346POC, Pred=B2346P0C, CER=0.1250\n",
      "[✓] test093_1.jpg: GT=B2026BIU, Pred=B2026BIU, CER=0.0000\n",
      "[✓] test094_1.jpg: GT=G1255EJ, Pred=G1255EJ, CER=0.0000\n",
      "[✓] test095_1.jpg: GT=B1201KAD, Pred=B1201KAD, CER=0.0000\n",
      "[✓] test095_2.jpg: GT=B2310JUK, Pred=B2310JUK, CER=0.0000\n",
      "[✓] test095_3.jpg: GT=B28YHH, Pred=B28YHH, CER=0.0000\n",
      "[✓] test096_1.jpg: GT=B1354COJ, Pred=B1354COJ, CER=0.0000\n",
      "[✓] test096_2.jpg: GT=B1502NRO, Pred=B1502NRO, CER=0.0000\n",
      "[✓] test097_1.jpg: GT=B1650NOG, Pred=B1650NOG, CER=0.0000\n",
      "[✓] test097_2.jpg: GT=B6354SVL, Pred=B6354SVL, CER=0.0000\n",
      "[✓] test098_1.jpg: GT=B1779DOB, Pred=B1779DOB, CER=0.0000\n",
      "[✓] test099_1.jpg: GT=B2017PBQ, Pred=B2017PBQ, CER=0.0000\n",
      "[✓] test099_2.jpg: GT=B1892WZT, Pred=B1892WZT, CER=0.0000\n",
      "[✓] test100_1.jpg: GT=B1071PRG, Pred=B1071PRG, CER=0.0000\n",
      "[✓] test100_2.jpg: GT=B2134PZJ, Pred=B2134PZJ, CER=0.0000\n"
     ]
    }
   ],
   "source": [
    "results = []\n",
    "cer_scores = [] \n",
    "\n",
    "for filename, true_text in ground_truth_dict.items():\n",
    "    image_path = os.path.join(image_folder, filename)\n",
    "    if not os.path.exists(image_path):\n",
    "        print(f\"[!] File tidak ditemukan: {image_path}\")\n",
    "        continue\n",
    "\n",
    "    try:\n",
    "        image_handle = lms.prepare_image(image_path)\n",
    "        chat = lms.Chat()\n",
    "        chat.add_user_message(prompt, images=[image_handle])\n",
    "        response = model.respond(chat)\n",
    "\n",
    "        pred_text = response.content.strip().replace(\" \", \"\").upper()\n",
    "        true_text = true_text.strip().replace(\" \", \"\").upper()\n",
    "\n",
    "        # Hitung CER per baris\n",
    "        cer_metric = load(\"cer\")\n",
    "        cer = cer_metric.compute(predictions=[pred_text], references=[true_text])\n",
    "\n",
    "        print(f\"[✓] {filename}: GT={true_text}, Pred={pred_text}, CER={cer:.4f}\")\n",
    "        cer_scores.append(cer)\n",
    "\n",
    "        results.append({\n",
    "            \"image\": filename,\n",
    "            \"ground_truth\": true_text,\n",
    "            \"prediction\": pred_text,\n",
    "            \"CER_score\": round(cer, 4)\n",
    "        })\n",
    "\n",
    "    except Exception as e:\n",
    "        print(f\"[X] Error saat memproses {filename}: {e}\")\n",
    "        cer_scores.append(1.0)\n",
    "        results.append({\n",
    "            \"image\": filename,\n",
    "            \"ground_truth\": true_text,\n",
    "            \"prediction\": \"ERROR\",\n",
    "            \"CER_score\": 1.0\n",
    "        })"
   ]
  },
  {
   "cell_type": "markdown",
   "id": "c06286d8",
   "metadata": {},
   "source": [
    "#### Hitung CER Rata-rata"
   ]
  },
  {
   "cell_type": "code",
   "execution_count": null,
   "id": "3d41c97a",
   "metadata": {},
   "outputs": [
    {
     "name": "stdout",
     "output_type": "stream",
     "text": [
      "\n",
      "📊 Rata-rata CER (Average CER): 0.0384\n"
     ]
    }
   ],
   "source": [
    "average_cer = sum(cer_scores) / len(cer_scores)\n",
    "print(f\"\\n📊 Rata-rata CER (Average CER): {average_cer:.4f}\")"
   ]
  },
  {
   "cell_type": "markdown",
   "id": "4a4f3bd0",
   "metadata": {},
   "source": [
    "#### Simpan ke CSV"
   ]
  },
  {
   "cell_type": "code",
   "execution_count": null,
   "id": "216fbfda",
   "metadata": {},
   "outputs": [
    {
     "name": "stdout",
     "output_type": "stream",
     "text": [
      "\n",
      "📁 Hasil disimpan ke: ocr_results.csv\n"
     ]
    }
   ],
   "source": [
    "df = pd.DataFrame(results)\n",
    "df.to_csv(output_csv, index=False)\n",
    "print(f\"\\n📁 Hasil disimpan ke: {output_csv}\")"
   ]
  }
 ],
 "metadata": {
  "kernelspec": {
   "display_name": "base",
   "language": "python",
   "name": "python3"
  },
  "language_info": {
   "codemirror_mode": {
    "name": "ipython",
    "version": 3
   },
   "file_extension": ".py",
   "mimetype": "text/x-python",
   "name": "python",
   "nbconvert_exporter": "python",
   "pygments_lexer": "ipython3",
   "version": "3.12.7"
  }
 },
 "nbformat": 4,
 "nbformat_minor": 5
}
